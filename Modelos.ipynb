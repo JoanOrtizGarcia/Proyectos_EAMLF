{
  "nbformat": 4,
  "nbformat_minor": 0,
  "metadata": {
    "colab": {
      "provenance": [],
      "toc_visible": true
    },
    "kernelspec": {
      "name": "python3",
      "display_name": "Python 3"
    },
    "language_info": {
      "name": "python"
    }
  },
  "cells": [
    {
      "cell_type": "markdown",
      "source": [
        "## Dependencias"
      ],
      "metadata": {
        "id": "KUmnIqfsXrWs"
      }
    },
    {
      "cell_type": "code",
      "execution_count": 50,
      "metadata": {
        "id": "8Ap_groxzW5G"
      },
      "outputs": [],
      "source": [
        "import numpy as np\n",
        "import pandas as pd\n",
        "import matplotlib.pyplot as plt\n",
        "from sklearn.model_selection import train_test_split\n",
        "from sklearn.preprocessing import StandardScaler\n",
        "from sklearn.metrics import confusion_matrix\n",
        "from sklearn.neighbors import KNeighborsClassifier\n",
        "from sklearn.ensemble import RandomForestClassifier\n",
        "from sklearn.metrics import r2_score\n",
        "from sklearn.metrics import mean_squared_error\n",
        "from sklearn.metrics import mean_absolute_error\n",
        "from sklearn.metrics import precision_score, accuracy_score,recall_score, f1_score, roc_auc_score\n",
        "from sklearn import datasets, metrics\n",
        "from sklearn.model_selection import cross_val_score\n",
        "from sklearn.model_selection import KFold\n",
        "from sklearn.tree import plot_tree"
      ]
    },
    {
      "cell_type": "markdown",
      "source": [
        "## Importando la base"
      ],
      "metadata": {
        "id": "XDbOS6MBXxxm"
      }
    },
    {
      "cell_type": "code",
      "source": [
        "# Importando los datos\n",
        "\n",
        "datos = pd.read_csv(\"student_prediction.csv\")\n",
        "datos"
      ],
      "metadata": {
        "colab": {
          "base_uri": "https://localhost:8080/",
          "height": 505
        },
        "id": "yLYuOwsGz0Rp",
        "outputId": "625bc9b2-fb2e-4d35-94a6-0b5712b61772"
      },
      "execution_count": 3,
      "outputs": [
        {
          "output_type": "execute_result",
          "data": {
            "text/plain": [
              "      STUDENTID  AGE  GENDER  HS_TYPE  SCHOLARSHIP  WORK  ACTIVITY  PARTNER  \\\n",
              "0      STUDENT1    2       2        3            3     1         2        2   \n",
              "1      STUDENT2    2       2        3            3     1         2        2   \n",
              "2      STUDENT3    2       2        2            3     2         2        2   \n",
              "3      STUDENT4    1       1        1            3     1         2        1   \n",
              "4      STUDENT5    2       2        1            3     2         2        1   \n",
              "..          ...  ...     ...      ...          ...   ...       ...      ...   \n",
              "140  STUDENT141    2       1        2            3     1         1        2   \n",
              "141  STUDENT142    1       1        2            4     2         2        2   \n",
              "142  STUDENT143    1       1        1            4     2         2        2   \n",
              "143  STUDENT144    2       1        2            4     1         1        1   \n",
              "144  STUDENT145    1       1        1            5     2         2        2   \n",
              "\n",
              "     SALARY  TRANSPORT  ...  PREP_STUDY  PREP_EXAM  NOTES  LISTENS  \\\n",
              "0         1          1  ...           1          1      3        2   \n",
              "1         1          1  ...           1          1      3        2   \n",
              "2         2          4  ...           1          1      2        2   \n",
              "3         2          1  ...           1          2      3        2   \n",
              "4         3          1  ...           2          1      2        2   \n",
              "..      ...        ...  ...         ...        ...    ...      ...   \n",
              "140       1          1  ...           1          1      2        1   \n",
              "141       1          4  ...           1          1      3        2   \n",
              "142       1          1  ...           1          1      3        3   \n",
              "143       5          2  ...           2          1      2        1   \n",
              "144       3          1  ...           2          1      3        2   \n",
              "\n",
              "     LIKES_DISCUSS  CLASSROOM  CUML_GPA  EXP_GPA  COURSE ID  GRADE  \n",
              "0                1          2         1        1          1      1  \n",
              "1                3          2         2        3          1      1  \n",
              "2                1          1         2        2          1      1  \n",
              "3                2          1         3        2          1      1  \n",
              "4                2          1         2        2          1      1  \n",
              "..             ...        ...       ...      ...        ...    ...  \n",
              "140              2          1         3        3          9      5  \n",
              "141              2          1         5        3          9      5  \n",
              "142              2          1         4        3          9      1  \n",
              "143              2          1         5        3          9      4  \n",
              "144              3          1         5        4          9      3  \n",
              "\n",
              "[145 rows x 33 columns]"
            ],
            "text/html": [
              "\n",
              "  <div id=\"df-0d6a2e79-4e44-493e-a8d1-54093f06e547\">\n",
              "    <div class=\"colab-df-container\">\n",
              "      <div>\n",
              "<style scoped>\n",
              "    .dataframe tbody tr th:only-of-type {\n",
              "        vertical-align: middle;\n",
              "    }\n",
              "\n",
              "    .dataframe tbody tr th {\n",
              "        vertical-align: top;\n",
              "    }\n",
              "\n",
              "    .dataframe thead th {\n",
              "        text-align: right;\n",
              "    }\n",
              "</style>\n",
              "<table border=\"1\" class=\"dataframe\">\n",
              "  <thead>\n",
              "    <tr style=\"text-align: right;\">\n",
              "      <th></th>\n",
              "      <th>STUDENTID</th>\n",
              "      <th>AGE</th>\n",
              "      <th>GENDER</th>\n",
              "      <th>HS_TYPE</th>\n",
              "      <th>SCHOLARSHIP</th>\n",
              "      <th>WORK</th>\n",
              "      <th>ACTIVITY</th>\n",
              "      <th>PARTNER</th>\n",
              "      <th>SALARY</th>\n",
              "      <th>TRANSPORT</th>\n",
              "      <th>...</th>\n",
              "      <th>PREP_STUDY</th>\n",
              "      <th>PREP_EXAM</th>\n",
              "      <th>NOTES</th>\n",
              "      <th>LISTENS</th>\n",
              "      <th>LIKES_DISCUSS</th>\n",
              "      <th>CLASSROOM</th>\n",
              "      <th>CUML_GPA</th>\n",
              "      <th>EXP_GPA</th>\n",
              "      <th>COURSE ID</th>\n",
              "      <th>GRADE</th>\n",
              "    </tr>\n",
              "  </thead>\n",
              "  <tbody>\n",
              "    <tr>\n",
              "      <th>0</th>\n",
              "      <td>STUDENT1</td>\n",
              "      <td>2</td>\n",
              "      <td>2</td>\n",
              "      <td>3</td>\n",
              "      <td>3</td>\n",
              "      <td>1</td>\n",
              "      <td>2</td>\n",
              "      <td>2</td>\n",
              "      <td>1</td>\n",
              "      <td>1</td>\n",
              "      <td>...</td>\n",
              "      <td>1</td>\n",
              "      <td>1</td>\n",
              "      <td>3</td>\n",
              "      <td>2</td>\n",
              "      <td>1</td>\n",
              "      <td>2</td>\n",
              "      <td>1</td>\n",
              "      <td>1</td>\n",
              "      <td>1</td>\n",
              "      <td>1</td>\n",
              "    </tr>\n",
              "    <tr>\n",
              "      <th>1</th>\n",
              "      <td>STUDENT2</td>\n",
              "      <td>2</td>\n",
              "      <td>2</td>\n",
              "      <td>3</td>\n",
              "      <td>3</td>\n",
              "      <td>1</td>\n",
              "      <td>2</td>\n",
              "      <td>2</td>\n",
              "      <td>1</td>\n",
              "      <td>1</td>\n",
              "      <td>...</td>\n",
              "      <td>1</td>\n",
              "      <td>1</td>\n",
              "      <td>3</td>\n",
              "      <td>2</td>\n",
              "      <td>3</td>\n",
              "      <td>2</td>\n",
              "      <td>2</td>\n",
              "      <td>3</td>\n",
              "      <td>1</td>\n",
              "      <td>1</td>\n",
              "    </tr>\n",
              "    <tr>\n",
              "      <th>2</th>\n",
              "      <td>STUDENT3</td>\n",
              "      <td>2</td>\n",
              "      <td>2</td>\n",
              "      <td>2</td>\n",
              "      <td>3</td>\n",
              "      <td>2</td>\n",
              "      <td>2</td>\n",
              "      <td>2</td>\n",
              "      <td>2</td>\n",
              "      <td>4</td>\n",
              "      <td>...</td>\n",
              "      <td>1</td>\n",
              "      <td>1</td>\n",
              "      <td>2</td>\n",
              "      <td>2</td>\n",
              "      <td>1</td>\n",
              "      <td>1</td>\n",
              "      <td>2</td>\n",
              "      <td>2</td>\n",
              "      <td>1</td>\n",
              "      <td>1</td>\n",
              "    </tr>\n",
              "    <tr>\n",
              "      <th>3</th>\n",
              "      <td>STUDENT4</td>\n",
              "      <td>1</td>\n",
              "      <td>1</td>\n",
              "      <td>1</td>\n",
              "      <td>3</td>\n",
              "      <td>1</td>\n",
              "      <td>2</td>\n",
              "      <td>1</td>\n",
              "      <td>2</td>\n",
              "      <td>1</td>\n",
              "      <td>...</td>\n",
              "      <td>1</td>\n",
              "      <td>2</td>\n",
              "      <td>3</td>\n",
              "      <td>2</td>\n",
              "      <td>2</td>\n",
              "      <td>1</td>\n",
              "      <td>3</td>\n",
              "      <td>2</td>\n",
              "      <td>1</td>\n",
              "      <td>1</td>\n",
              "    </tr>\n",
              "    <tr>\n",
              "      <th>4</th>\n",
              "      <td>STUDENT5</td>\n",
              "      <td>2</td>\n",
              "      <td>2</td>\n",
              "      <td>1</td>\n",
              "      <td>3</td>\n",
              "      <td>2</td>\n",
              "      <td>2</td>\n",
              "      <td>1</td>\n",
              "      <td>3</td>\n",
              "      <td>1</td>\n",
              "      <td>...</td>\n",
              "      <td>2</td>\n",
              "      <td>1</td>\n",
              "      <td>2</td>\n",
              "      <td>2</td>\n",
              "      <td>2</td>\n",
              "      <td>1</td>\n",
              "      <td>2</td>\n",
              "      <td>2</td>\n",
              "      <td>1</td>\n",
              "      <td>1</td>\n",
              "    </tr>\n",
              "    <tr>\n",
              "      <th>...</th>\n",
              "      <td>...</td>\n",
              "      <td>...</td>\n",
              "      <td>...</td>\n",
              "      <td>...</td>\n",
              "      <td>...</td>\n",
              "      <td>...</td>\n",
              "      <td>...</td>\n",
              "      <td>...</td>\n",
              "      <td>...</td>\n",
              "      <td>...</td>\n",
              "      <td>...</td>\n",
              "      <td>...</td>\n",
              "      <td>...</td>\n",
              "      <td>...</td>\n",
              "      <td>...</td>\n",
              "      <td>...</td>\n",
              "      <td>...</td>\n",
              "      <td>...</td>\n",
              "      <td>...</td>\n",
              "      <td>...</td>\n",
              "      <td>...</td>\n",
              "    </tr>\n",
              "    <tr>\n",
              "      <th>140</th>\n",
              "      <td>STUDENT141</td>\n",
              "      <td>2</td>\n",
              "      <td>1</td>\n",
              "      <td>2</td>\n",
              "      <td>3</td>\n",
              "      <td>1</td>\n",
              "      <td>1</td>\n",
              "      <td>2</td>\n",
              "      <td>1</td>\n",
              "      <td>1</td>\n",
              "      <td>...</td>\n",
              "      <td>1</td>\n",
              "      <td>1</td>\n",
              "      <td>2</td>\n",
              "      <td>1</td>\n",
              "      <td>2</td>\n",
              "      <td>1</td>\n",
              "      <td>3</td>\n",
              "      <td>3</td>\n",
              "      <td>9</td>\n",
              "      <td>5</td>\n",
              "    </tr>\n",
              "    <tr>\n",
              "      <th>141</th>\n",
              "      <td>STUDENT142</td>\n",
              "      <td>1</td>\n",
              "      <td>1</td>\n",
              "      <td>2</td>\n",
              "      <td>4</td>\n",
              "      <td>2</td>\n",
              "      <td>2</td>\n",
              "      <td>2</td>\n",
              "      <td>1</td>\n",
              "      <td>4</td>\n",
              "      <td>...</td>\n",
              "      <td>1</td>\n",
              "      <td>1</td>\n",
              "      <td>3</td>\n",
              "      <td>2</td>\n",
              "      <td>2</td>\n",
              "      <td>1</td>\n",
              "      <td>5</td>\n",
              "      <td>3</td>\n",
              "      <td>9</td>\n",
              "      <td>5</td>\n",
              "    </tr>\n",
              "    <tr>\n",
              "      <th>142</th>\n",
              "      <td>STUDENT143</td>\n",
              "      <td>1</td>\n",
              "      <td>1</td>\n",
              "      <td>1</td>\n",
              "      <td>4</td>\n",
              "      <td>2</td>\n",
              "      <td>2</td>\n",
              "      <td>2</td>\n",
              "      <td>1</td>\n",
              "      <td>1</td>\n",
              "      <td>...</td>\n",
              "      <td>1</td>\n",
              "      <td>1</td>\n",
              "      <td>3</td>\n",
              "      <td>3</td>\n",
              "      <td>2</td>\n",
              "      <td>1</td>\n",
              "      <td>4</td>\n",
              "      <td>3</td>\n",
              "      <td>9</td>\n",
              "      <td>1</td>\n",
              "    </tr>\n",
              "    <tr>\n",
              "      <th>143</th>\n",
              "      <td>STUDENT144</td>\n",
              "      <td>2</td>\n",
              "      <td>1</td>\n",
              "      <td>2</td>\n",
              "      <td>4</td>\n",
              "      <td>1</td>\n",
              "      <td>1</td>\n",
              "      <td>1</td>\n",
              "      <td>5</td>\n",
              "      <td>2</td>\n",
              "      <td>...</td>\n",
              "      <td>2</td>\n",
              "      <td>1</td>\n",
              "      <td>2</td>\n",
              "      <td>1</td>\n",
              "      <td>2</td>\n",
              "      <td>1</td>\n",
              "      <td>5</td>\n",
              "      <td>3</td>\n",
              "      <td>9</td>\n",
              "      <td>4</td>\n",
              "    </tr>\n",
              "    <tr>\n",
              "      <th>144</th>\n",
              "      <td>STUDENT145</td>\n",
              "      <td>1</td>\n",
              "      <td>1</td>\n",
              "      <td>1</td>\n",
              "      <td>5</td>\n",
              "      <td>2</td>\n",
              "      <td>2</td>\n",
              "      <td>2</td>\n",
              "      <td>3</td>\n",
              "      <td>1</td>\n",
              "      <td>...</td>\n",
              "      <td>2</td>\n",
              "      <td>1</td>\n",
              "      <td>3</td>\n",
              "      <td>2</td>\n",
              "      <td>3</td>\n",
              "      <td>1</td>\n",
              "      <td>5</td>\n",
              "      <td>4</td>\n",
              "      <td>9</td>\n",
              "      <td>3</td>\n",
              "    </tr>\n",
              "  </tbody>\n",
              "</table>\n",
              "<p>145 rows × 33 columns</p>\n",
              "</div>\n",
              "      <button class=\"colab-df-convert\" onclick=\"convertToInteractive('df-0d6a2e79-4e44-493e-a8d1-54093f06e547')\"\n",
              "              title=\"Convert this dataframe to an interactive table.\"\n",
              "              style=\"display:none;\">\n",
              "        \n",
              "  <svg xmlns=\"http://www.w3.org/2000/svg\" height=\"24px\"viewBox=\"0 0 24 24\"\n",
              "       width=\"24px\">\n",
              "    <path d=\"M0 0h24v24H0V0z\" fill=\"none\"/>\n",
              "    <path d=\"M18.56 5.44l.94 2.06.94-2.06 2.06-.94-2.06-.94-.94-2.06-.94 2.06-2.06.94zm-11 1L8.5 8.5l.94-2.06 2.06-.94-2.06-.94L8.5 2.5l-.94 2.06-2.06.94zm10 10l.94 2.06.94-2.06 2.06-.94-2.06-.94-.94-2.06-.94 2.06-2.06.94z\"/><path d=\"M17.41 7.96l-1.37-1.37c-.4-.4-.92-.59-1.43-.59-.52 0-1.04.2-1.43.59L10.3 9.45l-7.72 7.72c-.78.78-.78 2.05 0 2.83L4 21.41c.39.39.9.59 1.41.59.51 0 1.02-.2 1.41-.59l7.78-7.78 2.81-2.81c.8-.78.8-2.07 0-2.86zM5.41 20L4 18.59l7.72-7.72 1.47 1.35L5.41 20z\"/>\n",
              "  </svg>\n",
              "      </button>\n",
              "      \n",
              "  <style>\n",
              "    .colab-df-container {\n",
              "      display:flex;\n",
              "      flex-wrap:wrap;\n",
              "      gap: 12px;\n",
              "    }\n",
              "\n",
              "    .colab-df-convert {\n",
              "      background-color: #E8F0FE;\n",
              "      border: none;\n",
              "      border-radius: 50%;\n",
              "      cursor: pointer;\n",
              "      display: none;\n",
              "      fill: #1967D2;\n",
              "      height: 32px;\n",
              "      padding: 0 0 0 0;\n",
              "      width: 32px;\n",
              "    }\n",
              "\n",
              "    .colab-df-convert:hover {\n",
              "      background-color: #E2EBFA;\n",
              "      box-shadow: 0px 1px 2px rgba(60, 64, 67, 0.3), 0px 1px 3px 1px rgba(60, 64, 67, 0.15);\n",
              "      fill: #174EA6;\n",
              "    }\n",
              "\n",
              "    [theme=dark] .colab-df-convert {\n",
              "      background-color: #3B4455;\n",
              "      fill: #D2E3FC;\n",
              "    }\n",
              "\n",
              "    [theme=dark] .colab-df-convert:hover {\n",
              "      background-color: #434B5C;\n",
              "      box-shadow: 0px 1px 3px 1px rgba(0, 0, 0, 0.15);\n",
              "      filter: drop-shadow(0px 1px 2px rgba(0, 0, 0, 0.3));\n",
              "      fill: #FFFFFF;\n",
              "    }\n",
              "  </style>\n",
              "\n",
              "      <script>\n",
              "        const buttonEl =\n",
              "          document.querySelector('#df-0d6a2e79-4e44-493e-a8d1-54093f06e547 button.colab-df-convert');\n",
              "        buttonEl.style.display =\n",
              "          google.colab.kernel.accessAllowed ? 'block' : 'none';\n",
              "\n",
              "        async function convertToInteractive(key) {\n",
              "          const element = document.querySelector('#df-0d6a2e79-4e44-493e-a8d1-54093f06e547');\n",
              "          const dataTable =\n",
              "            await google.colab.kernel.invokeFunction('convertToInteractive',\n",
              "                                                     [key], {});\n",
              "          if (!dataTable) return;\n",
              "\n",
              "          const docLinkHtml = 'Like what you see? Visit the ' +\n",
              "            '<a target=\"_blank\" href=https://colab.research.google.com/notebooks/data_table.ipynb>data table notebook</a>'\n",
              "            + ' to learn more about interactive tables.';\n",
              "          element.innerHTML = '';\n",
              "          dataTable['output_type'] = 'display_data';\n",
              "          await google.colab.output.renderOutput(dataTable, element);\n",
              "          const docLink = document.createElement('div');\n",
              "          docLink.innerHTML = docLinkHtml;\n",
              "          element.appendChild(docLink);\n",
              "        }\n",
              "      </script>\n",
              "    </div>\n",
              "  </div>\n",
              "  "
            ]
          },
          "metadata": {},
          "execution_count": 3
        }
      ]
    },
    {
      "cell_type": "markdown",
      "source": [
        "## Train y test"
      ],
      "metadata": {
        "id": "n5RFaHnJX46M"
      }
    },
    {
      "cell_type": "code",
      "source": [
        "datos.drop([\"COURSE ID\",\"CUML_GPA\",\"EXP_GPA\"], axis = 1, inplace=True) # Eliminando variables que se considera no añaden información\n",
        "datos.head()"
      ],
      "metadata": {
        "colab": {
          "base_uri": "https://localhost:8080/",
          "height": 300
        },
        "id": "hUX5vYF_1raA",
        "outputId": "735bf480-9297-4b4a-e569-6693c03164aa"
      },
      "execution_count": 4,
      "outputs": [
        {
          "output_type": "execute_result",
          "data": {
            "text/plain": [
              "  STUDENTID  AGE  GENDER  HS_TYPE  SCHOLARSHIP  WORK  ACTIVITY  PARTNER  \\\n",
              "0  STUDENT1    2       2        3            3     1         2        2   \n",
              "1  STUDENT2    2       2        3            3     1         2        2   \n",
              "2  STUDENT3    2       2        2            3     2         2        2   \n",
              "3  STUDENT4    1       1        1            3     1         2        1   \n",
              "4  STUDENT5    2       2        1            3     2         2        1   \n",
              "\n",
              "   SALARY  TRANSPORT  ...  ATTEND_DEPT  IMPACT  ATTEND  PREP_STUDY  PREP_EXAM  \\\n",
              "0       1          1  ...            1       1       1           1          1   \n",
              "1       1          1  ...            1       1       1           1          1   \n",
              "2       2          4  ...            1       1       1           1          1   \n",
              "3       2          1  ...            1       1       1           1          2   \n",
              "4       3          1  ...            1       1       1           2          1   \n",
              "\n",
              "   NOTES  LISTENS  LIKES_DISCUSS  CLASSROOM  GRADE  \n",
              "0      3        2              1          2      1  \n",
              "1      3        2              3          2      1  \n",
              "2      2        2              1          1      1  \n",
              "3      3        2              2          1      1  \n",
              "4      2        2              2          1      1  \n",
              "\n",
              "[5 rows x 30 columns]"
            ],
            "text/html": [
              "\n",
              "  <div id=\"df-45ea00a6-bfb1-47d8-9e1e-5b86941415ec\">\n",
              "    <div class=\"colab-df-container\">\n",
              "      <div>\n",
              "<style scoped>\n",
              "    .dataframe tbody tr th:only-of-type {\n",
              "        vertical-align: middle;\n",
              "    }\n",
              "\n",
              "    .dataframe tbody tr th {\n",
              "        vertical-align: top;\n",
              "    }\n",
              "\n",
              "    .dataframe thead th {\n",
              "        text-align: right;\n",
              "    }\n",
              "</style>\n",
              "<table border=\"1\" class=\"dataframe\">\n",
              "  <thead>\n",
              "    <tr style=\"text-align: right;\">\n",
              "      <th></th>\n",
              "      <th>STUDENTID</th>\n",
              "      <th>AGE</th>\n",
              "      <th>GENDER</th>\n",
              "      <th>HS_TYPE</th>\n",
              "      <th>SCHOLARSHIP</th>\n",
              "      <th>WORK</th>\n",
              "      <th>ACTIVITY</th>\n",
              "      <th>PARTNER</th>\n",
              "      <th>SALARY</th>\n",
              "      <th>TRANSPORT</th>\n",
              "      <th>...</th>\n",
              "      <th>ATTEND_DEPT</th>\n",
              "      <th>IMPACT</th>\n",
              "      <th>ATTEND</th>\n",
              "      <th>PREP_STUDY</th>\n",
              "      <th>PREP_EXAM</th>\n",
              "      <th>NOTES</th>\n",
              "      <th>LISTENS</th>\n",
              "      <th>LIKES_DISCUSS</th>\n",
              "      <th>CLASSROOM</th>\n",
              "      <th>GRADE</th>\n",
              "    </tr>\n",
              "  </thead>\n",
              "  <tbody>\n",
              "    <tr>\n",
              "      <th>0</th>\n",
              "      <td>STUDENT1</td>\n",
              "      <td>2</td>\n",
              "      <td>2</td>\n",
              "      <td>3</td>\n",
              "      <td>3</td>\n",
              "      <td>1</td>\n",
              "      <td>2</td>\n",
              "      <td>2</td>\n",
              "      <td>1</td>\n",
              "      <td>1</td>\n",
              "      <td>...</td>\n",
              "      <td>1</td>\n",
              "      <td>1</td>\n",
              "      <td>1</td>\n",
              "      <td>1</td>\n",
              "      <td>1</td>\n",
              "      <td>3</td>\n",
              "      <td>2</td>\n",
              "      <td>1</td>\n",
              "      <td>2</td>\n",
              "      <td>1</td>\n",
              "    </tr>\n",
              "    <tr>\n",
              "      <th>1</th>\n",
              "      <td>STUDENT2</td>\n",
              "      <td>2</td>\n",
              "      <td>2</td>\n",
              "      <td>3</td>\n",
              "      <td>3</td>\n",
              "      <td>1</td>\n",
              "      <td>2</td>\n",
              "      <td>2</td>\n",
              "      <td>1</td>\n",
              "      <td>1</td>\n",
              "      <td>...</td>\n",
              "      <td>1</td>\n",
              "      <td>1</td>\n",
              "      <td>1</td>\n",
              "      <td>1</td>\n",
              "      <td>1</td>\n",
              "      <td>3</td>\n",
              "      <td>2</td>\n",
              "      <td>3</td>\n",
              "      <td>2</td>\n",
              "      <td>1</td>\n",
              "    </tr>\n",
              "    <tr>\n",
              "      <th>2</th>\n",
              "      <td>STUDENT3</td>\n",
              "      <td>2</td>\n",
              "      <td>2</td>\n",
              "      <td>2</td>\n",
              "      <td>3</td>\n",
              "      <td>2</td>\n",
              "      <td>2</td>\n",
              "      <td>2</td>\n",
              "      <td>2</td>\n",
              "      <td>4</td>\n",
              "      <td>...</td>\n",
              "      <td>1</td>\n",
              "      <td>1</td>\n",
              "      <td>1</td>\n",
              "      <td>1</td>\n",
              "      <td>1</td>\n",
              "      <td>2</td>\n",
              "      <td>2</td>\n",
              "      <td>1</td>\n",
              "      <td>1</td>\n",
              "      <td>1</td>\n",
              "    </tr>\n",
              "    <tr>\n",
              "      <th>3</th>\n",
              "      <td>STUDENT4</td>\n",
              "      <td>1</td>\n",
              "      <td>1</td>\n",
              "      <td>1</td>\n",
              "      <td>3</td>\n",
              "      <td>1</td>\n",
              "      <td>2</td>\n",
              "      <td>1</td>\n",
              "      <td>2</td>\n",
              "      <td>1</td>\n",
              "      <td>...</td>\n",
              "      <td>1</td>\n",
              "      <td>1</td>\n",
              "      <td>1</td>\n",
              "      <td>1</td>\n",
              "      <td>2</td>\n",
              "      <td>3</td>\n",
              "      <td>2</td>\n",
              "      <td>2</td>\n",
              "      <td>1</td>\n",
              "      <td>1</td>\n",
              "    </tr>\n",
              "    <tr>\n",
              "      <th>4</th>\n",
              "      <td>STUDENT5</td>\n",
              "      <td>2</td>\n",
              "      <td>2</td>\n",
              "      <td>1</td>\n",
              "      <td>3</td>\n",
              "      <td>2</td>\n",
              "      <td>2</td>\n",
              "      <td>1</td>\n",
              "      <td>3</td>\n",
              "      <td>1</td>\n",
              "      <td>...</td>\n",
              "      <td>1</td>\n",
              "      <td>1</td>\n",
              "      <td>1</td>\n",
              "      <td>2</td>\n",
              "      <td>1</td>\n",
              "      <td>2</td>\n",
              "      <td>2</td>\n",
              "      <td>2</td>\n",
              "      <td>1</td>\n",
              "      <td>1</td>\n",
              "    </tr>\n",
              "  </tbody>\n",
              "</table>\n",
              "<p>5 rows × 30 columns</p>\n",
              "</div>\n",
              "      <button class=\"colab-df-convert\" onclick=\"convertToInteractive('df-45ea00a6-bfb1-47d8-9e1e-5b86941415ec')\"\n",
              "              title=\"Convert this dataframe to an interactive table.\"\n",
              "              style=\"display:none;\">\n",
              "        \n",
              "  <svg xmlns=\"http://www.w3.org/2000/svg\" height=\"24px\"viewBox=\"0 0 24 24\"\n",
              "       width=\"24px\">\n",
              "    <path d=\"M0 0h24v24H0V0z\" fill=\"none\"/>\n",
              "    <path d=\"M18.56 5.44l.94 2.06.94-2.06 2.06-.94-2.06-.94-.94-2.06-.94 2.06-2.06.94zm-11 1L8.5 8.5l.94-2.06 2.06-.94-2.06-.94L8.5 2.5l-.94 2.06-2.06.94zm10 10l.94 2.06.94-2.06 2.06-.94-2.06-.94-.94-2.06-.94 2.06-2.06.94z\"/><path d=\"M17.41 7.96l-1.37-1.37c-.4-.4-.92-.59-1.43-.59-.52 0-1.04.2-1.43.59L10.3 9.45l-7.72 7.72c-.78.78-.78 2.05 0 2.83L4 21.41c.39.39.9.59 1.41.59.51 0 1.02-.2 1.41-.59l7.78-7.78 2.81-2.81c.8-.78.8-2.07 0-2.86zM5.41 20L4 18.59l7.72-7.72 1.47 1.35L5.41 20z\"/>\n",
              "  </svg>\n",
              "      </button>\n",
              "      \n",
              "  <style>\n",
              "    .colab-df-container {\n",
              "      display:flex;\n",
              "      flex-wrap:wrap;\n",
              "      gap: 12px;\n",
              "    }\n",
              "\n",
              "    .colab-df-convert {\n",
              "      background-color: #E8F0FE;\n",
              "      border: none;\n",
              "      border-radius: 50%;\n",
              "      cursor: pointer;\n",
              "      display: none;\n",
              "      fill: #1967D2;\n",
              "      height: 32px;\n",
              "      padding: 0 0 0 0;\n",
              "      width: 32px;\n",
              "    }\n",
              "\n",
              "    .colab-df-convert:hover {\n",
              "      background-color: #E2EBFA;\n",
              "      box-shadow: 0px 1px 2px rgba(60, 64, 67, 0.3), 0px 1px 3px 1px rgba(60, 64, 67, 0.15);\n",
              "      fill: #174EA6;\n",
              "    }\n",
              "\n",
              "    [theme=dark] .colab-df-convert {\n",
              "      background-color: #3B4455;\n",
              "      fill: #D2E3FC;\n",
              "    }\n",
              "\n",
              "    [theme=dark] .colab-df-convert:hover {\n",
              "      background-color: #434B5C;\n",
              "      box-shadow: 0px 1px 3px 1px rgba(0, 0, 0, 0.15);\n",
              "      filter: drop-shadow(0px 1px 2px rgba(0, 0, 0, 0.3));\n",
              "      fill: #FFFFFF;\n",
              "    }\n",
              "  </style>\n",
              "\n",
              "      <script>\n",
              "        const buttonEl =\n",
              "          document.querySelector('#df-45ea00a6-bfb1-47d8-9e1e-5b86941415ec button.colab-df-convert');\n",
              "        buttonEl.style.display =\n",
              "          google.colab.kernel.accessAllowed ? 'block' : 'none';\n",
              "\n",
              "        async function convertToInteractive(key) {\n",
              "          const element = document.querySelector('#df-45ea00a6-bfb1-47d8-9e1e-5b86941415ec');\n",
              "          const dataTable =\n",
              "            await google.colab.kernel.invokeFunction('convertToInteractive',\n",
              "                                                     [key], {});\n",
              "          if (!dataTable) return;\n",
              "\n",
              "          const docLinkHtml = 'Like what you see? Visit the ' +\n",
              "            '<a target=\"_blank\" href=https://colab.research.google.com/notebooks/data_table.ipynb>data table notebook</a>'\n",
              "            + ' to learn more about interactive tables.';\n",
              "          element.innerHTML = '';\n",
              "          dataTable['output_type'] = 'display_data';\n",
              "          await google.colab.output.renderOutput(dataTable, element);\n",
              "          const docLink = document.createElement('div');\n",
              "          docLink.innerHTML = docLinkHtml;\n",
              "          element.appendChild(docLink);\n",
              "        }\n",
              "      </script>\n",
              "    </div>\n",
              "  </div>\n",
              "  "
            ]
          },
          "metadata": {},
          "execution_count": 4
        }
      ]
    },
    {
      "cell_type": "code",
      "source": [
        "# Haciendo el train y test de x y (las 4 partes en que se dividen los datos)\n",
        "train, test = train_test_split(datos, test_size= 0.2, shuffle=True) # el random state es para la semilla aleatoria, por lo que lo quitamos\n",
        "                                                                    # el shuffle es para que sean ordenados, al no ser una serie de tiempo podemos dejarlo como \"True\"\n",
        "print(train)"
      ],
      "metadata": {
        "colab": {
          "base_uri": "https://localhost:8080/"
        },
        "id": "kTsH0Q9h1tcR",
        "outputId": "a55cbc24-096f-44d8-83df-7d8768f61c18"
      },
      "execution_count": 5,
      "outputs": [
        {
          "output_type": "stream",
          "name": "stdout",
          "text": [
            "      STUDENTID  AGE  GENDER  HS_TYPE  SCHOLARSHIP  WORK  ACTIVITY  PARTNER  \\\n",
            "16    STUDENT17    1       1        2            5     2         1        2   \n",
            "128  STUDENT129    1       1        2            4     2         1        1   \n",
            "45    STUDENT46    1       2        2            3     2         2        1   \n",
            "143  STUDENT144    2       1        2            4     1         1        1   \n",
            "113  STUDENT114    2       1        3            3     2         2        2   \n",
            "..          ...  ...     ...      ...          ...   ...       ...      ...   \n",
            "13    STUDENT14    2       1        2            5     2         2        2   \n",
            "131  STUDENT132    1       1        1            5     2         1        2   \n",
            "33    STUDENT34    2       1        2            3     1         2        1   \n",
            "64    STUDENT65    2       2        3            5     2         2        2   \n",
            "120  STUDENT121    2       1        1            3     1         1        1   \n",
            "\n",
            "     SALARY  TRANSPORT  ...  ATTEND_DEPT  IMPACT  ATTEND  PREP_STUDY  \\\n",
            "16        1          1  ...            1       1       2           1   \n",
            "128       1          4  ...            2       1       1           1   \n",
            "45        4          1  ...            1       1       1           1   \n",
            "143       5          2  ...            1       1       1           2   \n",
            "113       1          4  ...            2       3       2           2   \n",
            "..      ...        ...  ...          ...     ...     ...         ...   \n",
            "13        1          1  ...            1       1       2           1   \n",
            "131       1          2  ...            2       1       1           1   \n",
            "33        1          1  ...            1       1       1           1   \n",
            "64        1          1  ...            1       3       1           2   \n",
            "120       2          2  ...            1       1       2           2   \n",
            "\n",
            "     PREP_EXAM  NOTES  LISTENS  LIKES_DISCUSS  CLASSROOM  GRADE  \n",
            "16           1      3        2              3          3      1  \n",
            "128          1      3        2              2          1      0  \n",
            "45           1      2        2              2          1      3  \n",
            "143          1      2        1              2          1      4  \n",
            "113          1      2        2              1          1      1  \n",
            "..         ...    ...      ...            ...        ...    ...  \n",
            "13           1      3        2              3          3      1  \n",
            "131          2      3        2              3          1      4  \n",
            "33           1      1        3              2          2      2  \n",
            "64           1      3        2              3          1      3  \n",
            "120          1      3        3              3          2      1  \n",
            "\n",
            "[116 rows x 30 columns]\n"
          ]
        }
      ]
    },
    {
      "cell_type": "code",
      "source": [
        "print(test)"
      ],
      "metadata": {
        "colab": {
          "base_uri": "https://localhost:8080/"
        },
        "id": "tErPNRNt3Gux",
        "outputId": "aa0f1864-7cdd-4ecb-d15a-3b917f3d793c"
      },
      "execution_count": 6,
      "outputs": [
        {
          "output_type": "stream",
          "name": "stdout",
          "text": [
            "      STUDENTID  AGE  GENDER  HS_TYPE  SCHOLARSHIP  WORK  ACTIVITY  PARTNER  \\\n",
            "74    STUDENT75    1       2        2            4     2         2        2   \n",
            "98    STUDENT99    1       2        2            4     2         1        2   \n",
            "136  STUDENT137    1       1        2            3     1         1        1   \n",
            "46    STUDENT47    2       2        2            3     2         2        1   \n",
            "82    STUDENT83    2       2        2            4     1         2        1   \n",
            "27    STUDENT28    1       2        1            3     1         2        2   \n",
            "122  STUDENT123    1       2        2            5     2         1        2   \n",
            "130  STUDENT131    1       1        2            3     1         1        2   \n",
            "138  STUDENT139    1       1        2            4     1         1        1   \n",
            "44    STUDENT45    2       2        3            3     2         2        1   \n",
            "70    STUDENT71    1       2        2            4     2         1        1   \n",
            "135  STUDENT136    2       1        2            3     1         1        2   \n",
            "144  STUDENT145    1       1        1            5     2         2        2   \n",
            "91    STUDENT92    2       2        2            5     1         1        1   \n",
            "123  STUDENT124    2       1        3            3     2         2        2   \n",
            "73    STUDENT74    2       2        2            4     2         2        2   \n",
            "43    STUDENT44    1       2        2            3     2         2        1   \n",
            "3      STUDENT4    1       1        1            3     1         2        1   \n",
            "112  STUDENT113    2       1        3            3     1         2        2   \n",
            "106  STUDENT107    1       2        2            4     2         1        2   \n",
            "75    STUDENT76    1       2        2            4     2         1        2   \n",
            "89    STUDENT90    2       2        2            3     2         2        2   \n",
            "38    STUDENT39    2       2        2            5     2         2        2   \n",
            "11    STUDENT12    1       1        1            4     1         1        2   \n",
            "80    STUDENT81    2       1        2            3     1         2        1   \n",
            "101  STUDENT102    1       2        2            4     2         2        1   \n",
            "28    STUDENT29    3       2        2            3     2         2        1   \n",
            "29    STUDENT30    2       2        3            4     2         2        2   \n",
            "116  STUDENT117    2       1        2            5     2         2        2   \n",
            "\n",
            "     SALARY  TRANSPORT  ...  ATTEND_DEPT  IMPACT  ATTEND  PREP_STUDY  \\\n",
            "74        1          1  ...            2       1       1           2   \n",
            "98        1          4  ...            1       1       1           1   \n",
            "136       1          2  ...            2       1       1           3   \n",
            "46        1          1  ...            1       1       1           1   \n",
            "82        2          1  ...            1       1       1           1   \n",
            "27        1          1  ...            1       1       2           1   \n",
            "122       1          1  ...            1       2       1           2   \n",
            "130       1          1  ...            2       1       1           1   \n",
            "138       5          2  ...            2       3       1           2   \n",
            "44        1          1  ...            1       1       1           2   \n",
            "70        1          1  ...            1       1       1           1   \n",
            "135       1          4  ...            1       3       1           1   \n",
            "144       3          1  ...            1       1       1           2   \n",
            "91        1          1  ...            1       1       1           1   \n",
            "123       3          1  ...            2       1       1           1   \n",
            "73        1          1  ...            2       1       1           1   \n",
            "43        1          1  ...            1       1       2           1   \n",
            "3         2          1  ...            1       1       1           1   \n",
            "112       1          3  ...            2       3       1           2   \n",
            "106       1          1  ...            1       1       1           3   \n",
            "75        1          1  ...            1       1       1           1   \n",
            "89        1          1  ...            1       1       2           1   \n",
            "38        1          1  ...            1       1       1           2   \n",
            "11        4          2  ...            1       3       1           3   \n",
            "80        1          2  ...            1       3       1           1   \n",
            "101       2          1  ...            1       1       1           1   \n",
            "28        1          4  ...            1       1       1           1   \n",
            "29        1          4  ...            1       1       1           1   \n",
            "116       1          1  ...            2       1       1           1   \n",
            "\n",
            "     PREP_EXAM  NOTES  LISTENS  LIKES_DISCUSS  CLASSROOM  GRADE  \n",
            "74           1      3        2              3          2      7  \n",
            "98           1      3        1              2          1      7  \n",
            "136          1      3        2              2          1      0  \n",
            "46           1      2        2              3          1      5  \n",
            "82           1      3        3              2          3      7  \n",
            "27           1      3        1              2          1      1  \n",
            "122          1      3        2              2          1      2  \n",
            "130          2      3        1              3          2      1  \n",
            "138          1      3        2              3          1      0  \n",
            "44           1      3        2              2          1      1  \n",
            "70           1      2        2              3          1      7  \n",
            "135          1      3        3              2          1      2  \n",
            "144          1      3        2              3          1      3  \n",
            "91           1      2        3              3          2      6  \n",
            "123          1      3        3              2          1      1  \n",
            "73           2      3        2              3          1      6  \n",
            "43           1      3        1              3          3      4  \n",
            "3            2      3        2              2          1      1  \n",
            "112          1      3        3              3          1      2  \n",
            "106          2      2        2              2          1      7  \n",
            "75           1      2        2              2          2      7  \n",
            "89           1      3        1              3          3      6  \n",
            "38           1      2        2              2          2      2  \n",
            "11           2      3        1              3          3      0  \n",
            "80           1      2        3              1          2      4  \n",
            "101          1      3        3              2          1      7  \n",
            "28           1      3        2              3          3      3  \n",
            "29           1      3        2              2          2      5  \n",
            "116          1      3        3              3          1      1  \n",
            "\n",
            "[29 rows x 30 columns]\n"
          ]
        }
      ]
    },
    {
      "cell_type": "code",
      "source": [
        "#se necesitan 4 grupos porque el algortimo x y y los van a testear por aparte y luego con x y y\n",
        "\n",
        "x_train = train.drop([\"GRADE\", \"STUDENTID\"], 1)\n",
        "y_train = train[\"GRADE\"]\n",
        "print(x_train)"
      ],
      "metadata": {
        "colab": {
          "base_uri": "https://localhost:8080/"
        },
        "id": "V2LWTHIc3NJQ",
        "outputId": "4558f34e-6344-4eb3-b263-89f9ea48fa54"
      },
      "execution_count": 7,
      "outputs": [
        {
          "output_type": "stream",
          "name": "stdout",
          "text": [
            "     AGE  GENDER  HS_TYPE  SCHOLARSHIP  WORK  ACTIVITY  PARTNER  SALARY  \\\n",
            "16     1       1        2            5     2         1        2       1   \n",
            "128    1       1        2            4     2         1        1       1   \n",
            "45     1       2        2            3     2         2        1       4   \n",
            "143    2       1        2            4     1         1        1       5   \n",
            "113    2       1        3            3     2         2        2       1   \n",
            "..   ...     ...      ...          ...   ...       ...      ...     ...   \n",
            "13     2       1        2            5     2         2        2       1   \n",
            "131    1       1        1            5     2         1        2       1   \n",
            "33     2       1        2            3     1         2        1       1   \n",
            "64     2       2        3            5     2         2        2       1   \n",
            "120    2       1        1            3     1         1        1       2   \n",
            "\n",
            "     TRANSPORT  LIVING  ...  READ_FREQ_SCI  ATTEND_DEPT  IMPACT  ATTEND  \\\n",
            "16           1       1  ...              2            1       1       2   \n",
            "128          4       3  ...              1            2       1       1   \n",
            "45           1       1  ...              2            1       1       1   \n",
            "143          2       3  ...              1            1       1       1   \n",
            "113          4       2  ...              3            2       3       2   \n",
            "..         ...     ...  ...            ...          ...     ...     ...   \n",
            "13           1       1  ...              1            1       1       2   \n",
            "131          2       2  ...              3            2       1       1   \n",
            "33           1       1  ...              2            1       1       1   \n",
            "64           1       1  ...              2            1       3       1   \n",
            "120          2       3  ...              1            1       1       2   \n",
            "\n",
            "     PREP_STUDY  PREP_EXAM  NOTES  LISTENS  LIKES_DISCUSS  CLASSROOM  \n",
            "16            1          1      3        2              3          3  \n",
            "128           1          1      3        2              2          1  \n",
            "45            1          1      2        2              2          1  \n",
            "143           2          1      2        1              2          1  \n",
            "113           2          1      2        2              1          1  \n",
            "..          ...        ...    ...      ...            ...        ...  \n",
            "13            1          1      3        2              3          3  \n",
            "131           1          2      3        2              3          1  \n",
            "33            1          1      1        3              2          2  \n",
            "64            2          1      3        2              3          1  \n",
            "120           2          1      3        3              3          2  \n",
            "\n",
            "[116 rows x 28 columns]\n"
          ]
        },
        {
          "output_type": "stream",
          "name": "stderr",
          "text": [
            "<ipython-input-7-7334dc9f994f>:3: FutureWarning: In a future version of pandas all arguments of DataFrame.drop except for the argument 'labels' will be keyword-only.\n",
            "  x_train = train.drop([\"GRADE\", \"STUDENTID\"], 1)\n"
          ]
        }
      ]
    },
    {
      "cell_type": "code",
      "source": [
        "print(y_train)"
      ],
      "metadata": {
        "colab": {
          "base_uri": "https://localhost:8080/"
        },
        "id": "Ro5r9QIH3TXo",
        "outputId": "c66e5dcc-e70d-4f60-f84d-f9a76dc753a8"
      },
      "execution_count": 8,
      "outputs": [
        {
          "output_type": "stream",
          "name": "stdout",
          "text": [
            "16     1\n",
            "128    0\n",
            "45     3\n",
            "143    4\n",
            "113    1\n",
            "      ..\n",
            "13     1\n",
            "131    4\n",
            "33     2\n",
            "64     3\n",
            "120    1\n",
            "Name: GRADE, Length: 116, dtype: int64\n"
          ]
        }
      ]
    },
    {
      "cell_type": "code",
      "source": [
        "x_test = test.drop([\"GRADE\", \"STUDENTID\"], 1)\n",
        "y_test = test[\"GRADE\"]\n",
        "print(x_test) #Confirmando que quede bien para que lo lea el algoritmo"
      ],
      "metadata": {
        "colab": {
          "base_uri": "https://localhost:8080/"
        },
        "id": "ZSiZRa7m3nKI",
        "outputId": "26d0c963-e8be-4964-8a75-e0a5686c9bc7"
      },
      "execution_count": 9,
      "outputs": [
        {
          "output_type": "stream",
          "name": "stdout",
          "text": [
            "     AGE  GENDER  HS_TYPE  SCHOLARSHIP  WORK  ACTIVITY  PARTNER  SALARY  \\\n",
            "74     1       2        2            4     2         2        2       1   \n",
            "98     1       2        2            4     2         1        2       1   \n",
            "136    1       1        2            3     1         1        1       1   \n",
            "46     2       2        2            3     2         2        1       1   \n",
            "82     2       2        2            4     1         2        1       2   \n",
            "27     1       2        1            3     1         2        2       1   \n",
            "122    1       2        2            5     2         1        2       1   \n",
            "130    1       1        2            3     1         1        2       1   \n",
            "138    1       1        2            4     1         1        1       5   \n",
            "44     2       2        3            3     2         2        1       1   \n",
            "70     1       2        2            4     2         1        1       1   \n",
            "135    2       1        2            3     1         1        2       1   \n",
            "144    1       1        1            5     2         2        2       3   \n",
            "91     2       2        2            5     1         1        1       1   \n",
            "123    2       1        3            3     2         2        2       3   \n",
            "73     2       2        2            4     2         2        2       1   \n",
            "43     1       2        2            3     2         2        1       1   \n",
            "3      1       1        1            3     1         2        1       2   \n",
            "112    2       1        3            3     1         2        2       1   \n",
            "106    1       2        2            4     2         1        2       1   \n",
            "75     1       2        2            4     2         1        2       1   \n",
            "89     2       2        2            3     2         2        2       1   \n",
            "38     2       2        2            5     2         2        2       1   \n",
            "11     1       1        1            4     1         1        2       4   \n",
            "80     2       1        2            3     1         2        1       1   \n",
            "101    1       2        2            4     2         2        1       2   \n",
            "28     3       2        2            3     2         2        1       1   \n",
            "29     2       2        3            4     2         2        2       1   \n",
            "116    2       1        2            5     2         2        2       1   \n",
            "\n",
            "     TRANSPORT  LIVING  ...  READ_FREQ_SCI  ATTEND_DEPT  IMPACT  ATTEND  \\\n",
            "74           1       1  ...              2            2       1       1   \n",
            "98           4       2  ...              2            1       1       1   \n",
            "136          2       3  ...              2            2       1       1   \n",
            "46           1       1  ...              2            1       1       1   \n",
            "82           1       1  ...              3            1       1       1   \n",
            "27           1       1  ...              2            1       1       2   \n",
            "122          1       1  ...              2            1       2       1   \n",
            "130          1       1  ...              2            2       1       1   \n",
            "138          2       3  ...              3            2       3       1   \n",
            "44           1       1  ...              2            1       1       1   \n",
            "70           1       1  ...              2            1       1       1   \n",
            "135          4       2  ...              2            1       3       1   \n",
            "144          1       1  ...              1            1       1       1   \n",
            "91           1       2  ...              2            1       1       1   \n",
            "123          1       1  ...              3            2       1       1   \n",
            "73           1       2  ...              1            2       1       1   \n",
            "43           1       1  ...              2            1       1       2   \n",
            "3            1       2  ...              2            1       1       1   \n",
            "112          3       3  ...              1            2       3       1   \n",
            "106          1       2  ...              2            1       1       1   \n",
            "75           1       3  ...              1            1       1       1   \n",
            "89           1       1  ...              2            1       1       2   \n",
            "38           1       1  ...              2            1       1       1   \n",
            "11           2       3  ...              3            1       3       1   \n",
            "80           2       1  ...              1            1       3       1   \n",
            "101          1       3  ...              2            1       1       1   \n",
            "28           4       2  ...              2            1       1       1   \n",
            "29           4       2  ...              2            1       1       1   \n",
            "116          1       1  ...              3            2       1       1   \n",
            "\n",
            "     PREP_STUDY  PREP_EXAM  NOTES  LISTENS  LIKES_DISCUSS  CLASSROOM  \n",
            "74            2          1      3        2              3          2  \n",
            "98            1          1      3        1              2          1  \n",
            "136           3          1      3        2              2          1  \n",
            "46            1          1      2        2              3          1  \n",
            "82            1          1      3        3              2          3  \n",
            "27            1          1      3        1              2          1  \n",
            "122           2          1      3        2              2          1  \n",
            "130           1          2      3        1              3          2  \n",
            "138           2          1      3        2              3          1  \n",
            "44            2          1      3        2              2          1  \n",
            "70            1          1      2        2              3          1  \n",
            "135           1          1      3        3              2          1  \n",
            "144           2          1      3        2              3          1  \n",
            "91            1          1      2        3              3          2  \n",
            "123           1          1      3        3              2          1  \n",
            "73            1          2      3        2              3          1  \n",
            "43            1          1      3        1              3          3  \n",
            "3             1          2      3        2              2          1  \n",
            "112           2          1      3        3              3          1  \n",
            "106           3          2      2        2              2          1  \n",
            "75            1          1      2        2              2          2  \n",
            "89            1          1      3        1              3          3  \n",
            "38            2          1      2        2              2          2  \n",
            "11            3          2      3        1              3          3  \n",
            "80            1          1      2        3              1          2  \n",
            "101           1          1      3        3              2          1  \n",
            "28            1          1      3        2              3          3  \n",
            "29            1          1      3        2              2          2  \n",
            "116           1          1      3        3              3          1  \n",
            "\n",
            "[29 rows x 28 columns]\n"
          ]
        },
        {
          "output_type": "stream",
          "name": "stderr",
          "text": [
            "<ipython-input-9-35975e9e29c4>:1: FutureWarning: In a future version of pandas all arguments of DataFrame.drop except for the argument 'labels' will be keyword-only.\n",
            "  x_test = test.drop([\"GRADE\", \"STUDENTID\"], 1)\n"
          ]
        }
      ]
    },
    {
      "cell_type": "code",
      "source": [
        "print(y_test) #Confirmando que quede bien para que lo lea el algoritmo"
      ],
      "metadata": {
        "colab": {
          "base_uri": "https://localhost:8080/"
        },
        "id": "nLArWO_M3v8I",
        "outputId": "1235535a-f56b-44fb-d85e-d92f41100bca"
      },
      "execution_count": 10,
      "outputs": [
        {
          "output_type": "stream",
          "name": "stdout",
          "text": [
            "74     7\n",
            "98     7\n",
            "136    0\n",
            "46     5\n",
            "82     7\n",
            "27     1\n",
            "122    2\n",
            "130    1\n",
            "138    0\n",
            "44     1\n",
            "70     7\n",
            "135    2\n",
            "144    3\n",
            "91     6\n",
            "123    1\n",
            "73     6\n",
            "43     4\n",
            "3      1\n",
            "112    2\n",
            "106    7\n",
            "75     7\n",
            "89     6\n",
            "38     2\n",
            "11     0\n",
            "80     4\n",
            "101    7\n",
            "28     3\n",
            "29     5\n",
            "116    1\n",
            "Name: GRADE, dtype: int64\n"
          ]
        }
      ]
    },
    {
      "cell_type": "markdown",
      "source": [
        "## Modelo KNN 1"
      ],
      "metadata": {
        "id": "iQRWoNoqYBTk"
      }
    },
    {
      "cell_type": "code",
      "source": [
        "# Definimos el modelo\n",
        "ModeloKNN = KNeighborsClassifier(n_neighbors=3, metric=\"minkowski\", p=2) #ojala el numero de vecinos sea impar\n",
        "# Etrenar el modelo\n",
        "ModeloKNN.fit(x_train, y_train)\n",
        "# Predicción\n",
        "y_predKNN = ModeloKNN.predict(x_test)"
      ],
      "metadata": {
        "id": "ZEuTysI84C9I"
      },
      "execution_count": 11,
      "outputs": []
    },
    {
      "cell_type": "code",
      "source": [
        "# Graficos\n",
        "plt.plot(np.array(y_test), \"bo\")\n",
        "plt.plot(y_predKNN, \"go\")\n",
        "plt.show()"
      ],
      "metadata": {
        "colab": {
          "base_uri": "https://localhost:8080/",
          "height": 430
        },
        "id": "buBo_p_n4aPZ",
        "outputId": "ff7993c6-acd1-4695-a076-3a2cd2b1ada5"
      },
      "execution_count": 12,
      "outputs": [
        {
          "output_type": "display_data",
          "data": {
            "text/plain": [
              "<Figure size 640x480 with 1 Axes>"
            ],
            "image/png": "[encoded data removed]"
          },
          "metadata": {}
        }
      ]
    },
    {
      "cell_type": "code",
      "source": [
        "# Mariz de confusión\n",
        "Matriz = confusion_matrix(y_test, y_predKNN)\n",
        "print(Matriz)"
      ],
      "metadata": {
        "colab": {
          "base_uri": "https://localhost:8080/"
        },
        "id": "Zr_LGgtO-mL6",
        "outputId": "212a48d8-c52f-4203-9e26-8a7cfab75057"
      },
      "execution_count": 13,
      "outputs": [
        {
          "output_type": "stream",
          "name": "stdout",
          "text": [
            "[[1 0 1 1 0 0 0 0]\n",
            " [0 4 1 0 0 1 0 0]\n",
            " [0 3 1 0 0 0 0 0]\n",
            " [0 2 0 0 0 0 0 0]\n",
            " [0 2 0 0 0 0 0 0]\n",
            " [0 2 0 0 0 0 0 0]\n",
            " [1 1 0 0 0 0 1 0]\n",
            " [1 1 2 2 0 1 0 0]]\n"
          ]
        }
      ]
    },
    {
      "cell_type": "code",
      "source": [
        "#Otras métricas\n",
        "precision4=precision_score(y_test, y_predKNN,average=\"macro\")\n",
        "print(\"Precisión del modelo: \", round(precision4,4))\n",
        "exactitud4=accuracy_score(y_test, y_predKNN)\n",
        "print(\"Exactitud del modelo: \", round(exactitud4,4))\n",
        "sensibilidad4=recall_score(y_test, y_predKNN, average=\"macro\")\n",
        "print(\"Sensibilidad del modelo: \", round(sensibilidad4,4))\n",
        "puntajef_14=f1_score(y_test, y_predKNN,average=\"macro\")\n",
        "print(\"Puntaje f1 del modelo: \", round(puntajef_14,4))\n",
        "\n",
        "y_predKNN_a=ModeloKNN.predict_proba(x_test)\n",
        "roc_auc4=roc_auc_score(y_test,y_predKNN_a, multi_class=\"ovr\")\n",
        "print(\"Curva ROC_AUC del modelo\", roc_auc4)"
      ],
      "metadata": {
        "colab": {
          "base_uri": "https://localhost:8080/"
        },
        "id": "4yHvTuth93Ra",
        "outputId": "56d59ed4-3974-4517-c68b-c418ec269467"
      },
      "execution_count": 14,
      "outputs": [
        {
          "output_type": "stream",
          "name": "stdout",
          "text": [
            "Precisión del modelo:  0.225\n",
            "Exactitud del modelo:  0.2414\n",
            "Sensibilidad del modelo:  0.1979\n",
            "Puntaje f1 del modelo:  0.1796\n",
            "Curva ROC_AUC del modelo 0.5235394074524509\n"
          ]
        },
        {
          "output_type": "stream",
          "name": "stderr",
          "text": [
            "/usr/local/lib/python3.10/dist-packages/sklearn/metrics/_classification.py:1344: UndefinedMetricWarning: Precision is ill-defined and being set to 0.0 in labels with no predicted samples. Use `zero_division` parameter to control this behavior.\n",
            "  _warn_prf(average, modifier, msg_start, len(result))\n"
          ]
        }
      ]
    },
    {
      "cell_type": "code",
      "source": [
        "## Validación cruzada\n",
        "\n",
        "#Definir x y y\n",
        "x = x_train\n",
        "y = y_train"
      ],
      "metadata": {
        "id": "5BRxfzzBdG-C"
      },
      "execution_count": 15,
      "outputs": []
    },
    {
      "cell_type": "code",
      "source": [
        "kf = KFold(n_splits= 6)# Número de divisiones\n",
        "# Se quiere evaluar el modelo para cada división\n",
        "scores=cross_val_score(ModeloKNN, x, y, cv=kf, scoring=\"accuracy\")"
      ],
      "metadata": {
        "id": "QnGik5JcdJgY"
      },
      "execution_count": 16,
      "outputs": []
    },
    {
      "cell_type": "code",
      "source": [
        "#Resultados\n",
        "print(\"Métricas de validación cruzada\",scores)\n",
        "print(\"Métricas de validación cruzada\",scores.mean())"
      ],
      "metadata": {
        "id": "gKk6JXZ1YaiB",
        "outputId": "b623b3ff-5801-48ff-e7d4-120dfdc0b9e6",
        "colab": {
          "base_uri": "https://localhost:8080/"
        }
      },
      "execution_count": 17,
      "outputs": [
        {
          "output_type": "stream",
          "name": "stdout",
          "text": [
            "Métricas de validación cruzada [0.05       0.25       0.21052632 0.31578947 0.21052632 0.21052632]\n",
            "Métricas de validación cruzada 0.20789473684210524\n"
          ]
        }
      ]
    },
    {
      "cell_type": "code",
      "source": [],
      "metadata": {
        "id": "ihP0bZcD-tFU"
      },
      "execution_count": null,
      "outputs": []
    },
    {
      "cell_type": "markdown",
      "source": [
        "## Modelo KNN 2"
      ],
      "metadata": {
        "id": "l8JtCekIYR8N"
      }
    },
    {
      "cell_type": "code",
      "source": [
        "# Definimos el modelo\n",
        "ModeloKNN2 = KNeighborsClassifier(n_neighbors=5, metric=\"minkowski\", p=2) #ojala el numero de vecinos sea impar\n",
        "# Etrenar el modelo\n",
        "ModeloKNN2.fit(x_train, y_train)\n",
        "# Predicción\n",
        "y_predKNN2 = ModeloKNN2.predict(x_test)"
      ],
      "metadata": {
        "id": "r0yLDBM3Yp98"
      },
      "execution_count": 18,
      "outputs": []
    },
    {
      "cell_type": "code",
      "source": [
        "# Graficos\n",
        "plt.plot(np.array(y_test), \"bo\")\n",
        "plt.plot(y_predKNN2, \"go\")\n",
        "plt.show()"
      ],
      "metadata": {
        "id": "gfuPUlGeY3Vs",
        "colab": {
          "base_uri": "https://localhost:8080/",
          "height": 430
        },
        "outputId": "24683870-3893-4818-b430-c489ede80ce7"
      },
      "execution_count": 19,
      "outputs": [
        {
          "output_type": "display_data",
          "data": {
            "text/plain": [
              "<Figure size 640x480 with 1 Axes>"
            ],
            "image/png": "[encoded data removed]"
          },
          "metadata": {}
        }
      ]
    },
    {
      "cell_type": "code",
      "source": [
        "# Mariz de confusión\n",
        "Matriz2 = confusion_matrix(y_test, y_predKNN2)\n",
        "print(Matriz2)"
      ],
      "metadata": {
        "id": "764P9BUjZWNG",
        "colab": {
          "base_uri": "https://localhost:8080/"
        },
        "outputId": "8705d33a-b82d-468a-f25f-ebfd01483e81"
      },
      "execution_count": 20,
      "outputs": [
        {
          "output_type": "stream",
          "name": "stdout",
          "text": [
            "[[0 1 1 0 1 0 0 0]\n",
            " [0 4 0 2 0 0 0 0]\n",
            " [0 2 0 1 0 1 0 0]\n",
            " [0 2 0 0 0 0 0 0]\n",
            " [0 2 0 0 0 0 0 0]\n",
            " [0 2 0 0 0 0 0 0]\n",
            " [1 0 0 1 0 1 0 0]\n",
            " [0 3 1 2 0 0 1 0]]\n"
          ]
        }
      ]
    },
    {
      "cell_type": "code",
      "source": [
        "#Otras métricas\n",
        "precision4=precision_score(y_test, y_predKNN2,average=\"macro\")\n",
        "print(\"Precisión del modelo: \", round(precision4,4))\n",
        "exactitud4=accuracy_score(y_test, y_predKNN2)\n",
        "print(\"Exactitud del modelo: \", round(exactitud4,4))\n",
        "sensibilidad4=recall_score(y_test, y_predKNN2, average=\"macro\")\n",
        "print(\"Sensibilidad del modelo: \", round(sensibilidad4,4))\n",
        "puntajef_14=f1_score(y_test, y_predKNN2,average=\"macro\")\n",
        "print(\"Puntaje f1 del modelo: \", round(puntajef_14,4))\n",
        "\n",
        "y_predKNN2_a=ModeloKNN2.predict_proba(x_test)\n",
        "roc_auc4=roc_auc_score(y_test,y_predKNN2_a, multi_class=\"ovr\")\n",
        "print(\"Curva ROC_AUC del modelo\", roc_auc4)"
      ],
      "metadata": {
        "id": "JQZi121TZn1G",
        "colab": {
          "base_uri": "https://localhost:8080/"
        },
        "outputId": "a039453a-dca0-49a2-ec2d-4125a3a3379a"
      },
      "execution_count": 21,
      "outputs": [
        {
          "output_type": "stream",
          "name": "stdout",
          "text": [
            "Precisión del modelo:  0.0312\n",
            "Exactitud del modelo:  0.1379\n",
            "Sensibilidad del modelo:  0.0833\n",
            "Puntaje f1 del modelo:  0.0455\n",
            "Curva ROC_AUC del modelo 0.5114948256252604\n"
          ]
        },
        {
          "output_type": "stream",
          "name": "stderr",
          "text": [
            "/usr/local/lib/python3.10/dist-packages/sklearn/metrics/_classification.py:1344: UndefinedMetricWarning: Precision is ill-defined and being set to 0.0 in labels with no predicted samples. Use `zero_division` parameter to control this behavior.\n",
            "  _warn_prf(average, modifier, msg_start, len(result))\n"
          ]
        }
      ]
    },
    {
      "cell_type": "markdown",
      "source": [
        "## Modelo KNN 3"
      ],
      "metadata": {
        "id": "VHDi4IcdYUot"
      }
    },
    {
      "cell_type": "code",
      "source": [
        "# Definimos el modelo\n",
        "ModeloKNN3 = KNeighborsClassifier(n_neighbors=7, metric=\"minkowski\", p=2) #ojala el numero de vecinos sea impar\n",
        "# Etrenar el modelo\n",
        "ModeloKNN3.fit(x_train, y_train)\n",
        "# Predicción\n",
        "y_predKNN3 = ModeloKNN3.predict(x_test)"
      ],
      "metadata": {
        "id": "6RH4zcMJY-s8"
      },
      "execution_count": 22,
      "outputs": []
    },
    {
      "cell_type": "code",
      "source": [
        "# Graficos\n",
        "plt.plot(np.array(y_test), \"bo\")\n",
        "plt.plot(y_predKNN3, \"go\")\n",
        "plt.show()"
      ],
      "metadata": {
        "id": "8RlG9ROQZLql",
        "colab": {
          "base_uri": "https://localhost:8080/",
          "height": 430
        },
        "outputId": "b55c2a72-0d6e-48e5-fe23-5ec8f87206a5"
      },
      "execution_count": 23,
      "outputs": [
        {
          "output_type": "display_data",
          "data": {
            "text/plain": [
              "<Figure size 640x480 with 1 Axes>"
            ],
            "image/png": "[encoded data removed]"
          },
          "metadata": {}
        }
      ]
    },
    {
      "cell_type": "code",
      "source": [
        "# Mariz de confusión\n",
        "Matriz3 = confusion_matrix(y_test, y_predKNN3)\n",
        "print(Matriz3)"
      ],
      "metadata": {
        "id": "lHUjvKbwZfi3",
        "colab": {
          "base_uri": "https://localhost:8080/"
        },
        "outputId": "e5b8f9eb-9a95-4d2b-d5b8-4a84054a5c9a"
      },
      "execution_count": 24,
      "outputs": [
        {
          "output_type": "stream",
          "name": "stdout",
          "text": [
            "[[0 2 0 0 1 0 0 0]\n",
            " [0 4 0 2 0 0 0 0]\n",
            " [0 3 0 1 0 0 0 0]\n",
            " [0 2 0 0 0 0 0 0]\n",
            " [0 2 0 0 0 0 0 0]\n",
            " [0 1 0 0 0 1 0 0]\n",
            " [0 1 0 0 0 1 1 0]\n",
            " [0 5 0 1 0 0 1 0]]\n"
          ]
        }
      ]
    },
    {
      "cell_type": "code",
      "source": [
        "#Otras métricas\n",
        "precision4=precision_score(y_test, y_predKNN3,average=\"macro\")\n",
        "print(\"Precisión del modelo: \", round(precision4,4))\n",
        "exactitud4=accuracy_score(y_test, y_predKNN3)\n",
        "print(\"Exactitud del modelo: \", round(exactitud4,4))\n",
        "sensibilidad4=recall_score(y_test, y_predKNN3, average=\"macro\")\n",
        "print(\"Sensibilidad del modelo: \", round(sensibilidad4,4))\n",
        "puntajef_14=f1_score(y_test, y_predKNN3,average=\"macro\")\n",
        "print(\"Puntaje f1 del modelo: \", round(puntajef_14,4))\n",
        "\n",
        "y_predKNN3_a=ModeloKNN3.predict_proba(x_test)\n",
        "roc_auc4=roc_auc_score(y_test,y_predKNN3_a, multi_class=\"ovr\")\n",
        "print(\"Curva ROC_AUC del modelo\", roc_auc4)"
      ],
      "metadata": {
        "id": "5yR9pvXkaGub",
        "colab": {
          "base_uri": "https://localhost:8080/"
        },
        "outputId": "3157e1ea-0f20-455c-bd7d-e001683544df"
      },
      "execution_count": 25,
      "outputs": [
        {
          "output_type": "stream",
          "name": "stdout",
          "text": [
            "Precisión del modelo:  0.15\n",
            "Exactitud del modelo:  0.2069\n",
            "Sensibilidad del modelo:  0.1875\n",
            "Puntaje f1 del modelo:  0.151\n",
            "Curva ROC_AUC del modelo 0.5409707723838159\n"
          ]
        },
        {
          "output_type": "stream",
          "name": "stderr",
          "text": [
            "/usr/local/lib/python3.10/dist-packages/sklearn/metrics/_classification.py:1344: UndefinedMetricWarning: Precision is ill-defined and being set to 0.0 in labels with no predicted samples. Use `zero_division` parameter to control this behavior.\n",
            "  _warn_prf(average, modifier, msg_start, len(result))\n"
          ]
        }
      ]
    },
    {
      "cell_type": "markdown",
      "source": [
        "## Modelo bosques aleatorios 1"
      ],
      "metadata": {
        "id": "5PzUPE5WYIUk"
      }
    },
    {
      "cell_type": "code",
      "source": [
        "# Modelo\n",
        "ModeloBos = RandomForestClassifier(n_estimators=50, criterion=\"gini\") # si es de regresión es mejor darle la profundidad\n",
        "# Entrenamiento\n",
        "ModeloBos.fit(x_train, y_train)\n",
        "# Predicción\n",
        "y_predBos = ModeloBos.predict(x_test)"
      ],
      "metadata": {
        "id": "VctcvfGE5TO5"
      },
      "execution_count": 26,
      "outputs": []
    },
    {
      "cell_type": "code",
      "source": [
        "# Graficos\n",
        "plt.plot(np.array(y_test), \"bo\")\n",
        "plt.plot(y_predBos, \"go\")\n",
        "plt.show()"
      ],
      "metadata": {
        "id": "0Ph2SXKk5WyY",
        "colab": {
          "base_uri": "https://localhost:8080/",
          "height": 430
        },
        "outputId": "c0998992-031a-4c0e-f43d-7b97dbebb18c"
      },
      "execution_count": 27,
      "outputs": [
        {
          "output_type": "display_data",
          "data": {
            "text/plain": [
              "<Figure size 640x480 with 1 Axes>"
            ],
            "image/png": "[encoded data removed]"
          },
          "metadata": {}
        }
      ]
    },
    {
      "cell_type": "code",
      "source": [
        "# Mariz de confusión\n",
        "Matriz4 = confusion_matrix(y_test, y_predBos)\n",
        "print(Matriz4) # 3 quedaron por fuera"
      ],
      "metadata": {
        "id": "9JUU-Arg-zW2",
        "colab": {
          "base_uri": "https://localhost:8080/"
        },
        "outputId": "c1f7de94-cf31-4c29-9002-2c957899ce39"
      },
      "execution_count": 28,
      "outputs": [
        {
          "output_type": "stream",
          "name": "stdout",
          "text": [
            "[[1 0 1 0 1 0 0 0]\n",
            " [0 4 0 2 0 0 0 0]\n",
            " [0 2 2 0 0 0 0 0]\n",
            " [0 1 0 0 1 0 0 0]\n",
            " [0 2 0 0 0 0 0 0]\n",
            " [0 1 0 0 0 1 0 0]\n",
            " [0 1 0 1 0 1 0 0]\n",
            " [0 2 2 1 0 1 1 0]]\n"
          ]
        }
      ]
    },
    {
      "cell_type": "code",
      "source": [
        "#Otras métricas\n",
        "precision4=precision_score(y_test, y_predBos,average=\"macro\")\n",
        "print(\"Precisión del modelo: \", round(precision4,4))\n",
        "exactitud4=accuracy_score(y_test, y_predBos)\n",
        "print(\"Exactitud del modelo: \", round(exactitud4,4))\n",
        "sensibilidad4=recall_score(y_test, y_predBos, average=\"macro\")\n",
        "print(\"Sensibilidad del modelo: \", round(sensibilidad4,4))\n",
        "puntajef_14=f1_score(y_test, y_predBos,average=\"macro\")\n",
        "print(\"Puntaje f1 del modelo: \", round(puntajef_14,4))\n",
        "\n",
        "y_predBos_a=ModeloBos.predict_proba(x_test)\n",
        "roc_auc4=roc_auc_score(y_test,y_predBos_a, multi_class=\"ovr\")\n",
        "print(\"Curva ROC_AUC del modelo\", roc_auc4)"
      ],
      "metadata": {
        "id": "FL6E1qBd-xea",
        "colab": {
          "base_uri": "https://localhost:8080/"
        },
        "outputId": "efac5ae9-3139-4f4a-b577-85c1817d1e27"
      },
      "execution_count": 29,
      "outputs": [
        {
          "output_type": "stream",
          "name": "stdout",
          "text": [
            "Precisión del modelo:  0.2551\n",
            "Exactitud del modelo:  0.2759\n",
            "Sensibilidad del modelo:  0.25\n",
            "Puntaje f1 del modelo:  0.2207\n",
            "Curva ROC_AUC del modelo 0.6324040562899258\n"
          ]
        },
        {
          "output_type": "stream",
          "name": "stderr",
          "text": [
            "/usr/local/lib/python3.10/dist-packages/sklearn/metrics/_classification.py:1344: UndefinedMetricWarning: Precision is ill-defined and being set to 0.0 in labels with no predicted samples. Use `zero_division` parameter to control this behavior.\n",
            "  _warn_prf(average, modifier, msg_start, len(result))\n"
          ]
        }
      ]
    },
    {
      "cell_type": "markdown",
      "source": [
        "## Modelo bosques aleatorios 2"
      ],
      "metadata": {
        "id": "8M6qmlcRYbnr"
      }
    },
    {
      "cell_type": "code",
      "source": [
        "# Modelo\n",
        "ModeloBos2 = RandomForestClassifier(n_estimators=70, criterion=\"gini\") # si es de regresión es mejor darle la profundidad\n",
        "# Entrenamiento\n",
        "ModeloBos2.fit(x_train, y_train)\n",
        "# Predicción\n",
        "y_predBos2 = ModeloBos2.predict(x_test)"
      ],
      "metadata": {
        "id": "_-MyA-Ojadr1"
      },
      "execution_count": 30,
      "outputs": []
    },
    {
      "cell_type": "code",
      "source": [
        "# Graficos\n",
        "plt.plot(np.array(y_test), \"bo\")\n",
        "plt.plot(y_predBos2, \"go\")\n",
        "plt.show()"
      ],
      "metadata": {
        "id": "ZfgzJ8owaqVa",
        "colab": {
          "base_uri": "https://localhost:8080/",
          "height": 430
        },
        "outputId": "bbb12779-d4e6-419f-8e10-ce5a01edbf3d"
      },
      "execution_count": 31,
      "outputs": [
        {
          "output_type": "display_data",
          "data": {
            "text/plain": [
              "<Figure size 640x480 with 1 Axes>"
            ],
            "image/png": "[encoded data removed]"
          },
          "metadata": {}
        }
      ]
    },
    {
      "cell_type": "code",
      "source": [
        "# Mariz de confusión\n",
        "Matriz5 = confusion_matrix(y_test, y_predBos2)\n",
        "print(Matriz5)"
      ],
      "metadata": {
        "id": "TgrYGJU0a6sm",
        "colab": {
          "base_uri": "https://localhost:8080/"
        },
        "outputId": "34b122b5-ebec-4ac1-e641-a72ef65b2b0b"
      },
      "execution_count": 32,
      "outputs": [
        {
          "output_type": "stream",
          "name": "stdout",
          "text": [
            "[[0 0 2 0 1 0 0 0]\n",
            " [0 2 1 3 0 0 0 0]\n",
            " [0 2 1 1 0 0 0 0]\n",
            " [0 1 1 0 0 0 0 0]\n",
            " [0 2 0 0 0 0 0 0]\n",
            " [0 0 0 1 0 1 0 0]\n",
            " [0 2 0 0 0 1 0 0]\n",
            " [0 5 0 1 0 0 1 0]]\n"
          ]
        }
      ]
    },
    {
      "cell_type": "code",
      "source": [
        "#Otras métricas\n",
        "precision4=precision_score(y_test, y_predBos2,average=\"macro\")\n",
        "print(\"Precisión del modelo: \", round(precision4,4))\n",
        "exactitud4=accuracy_score(y_test, y_predBos2)\n",
        "print(\"Exactitud del modelo: \", round(exactitud4,4))\n",
        "sensibilidad4=recall_score(y_test, y_predBos2, average=\"macro\")\n",
        "print(\"Sensibilidad del modelo: \", round(sensibilidad4,4))\n",
        "puntajef_14=f1_score(y_test, y_predBos2,average=\"macro\")\n",
        "print(\"Puntaje f1 del modelo: \", round(puntajef_14,4))\n",
        "\n",
        "y_predBos2_a=ModeloBos2.predict_proba(x_test)\n",
        "roc_auc4=roc_auc_score(y_test,y_predBos2_a, multi_class=\"ovr\")\n",
        "print(\"Curva ROC_AUC del modelo\", roc_auc4)"
      ],
      "metadata": {
        "id": "sZoSzUhPbcNm",
        "colab": {
          "base_uri": "https://localhost:8080/"
        },
        "outputId": "66fce4a0-4de2-4409-fbf2-d618664b9df5"
      },
      "execution_count": 33,
      "outputs": [
        {
          "output_type": "stream",
          "name": "stdout",
          "text": [
            "Precisión del modelo:  0.1054\n",
            "Exactitud del modelo:  0.1379\n",
            "Sensibilidad del modelo:  0.1354\n",
            "Puntaje f1 del modelo:  0.1153\n",
            "Curva ROC_AUC del modelo 0.53952681477138\n"
          ]
        },
        {
          "output_type": "stream",
          "name": "stderr",
          "text": [
            "/usr/local/lib/python3.10/dist-packages/sklearn/metrics/_classification.py:1344: UndefinedMetricWarning: Precision is ill-defined and being set to 0.0 in labels with no predicted samples. Use `zero_division` parameter to control this behavior.\n",
            "  _warn_prf(average, modifier, msg_start, len(result))\n"
          ]
        }
      ]
    },
    {
      "cell_type": "code",
      "source": [],
      "metadata": {
        "id": "k7akX-Ob-ztU"
      },
      "execution_count": null,
      "outputs": []
    },
    {
      "cell_type": "markdown",
      "source": [
        "## Modelo bosques aleatorios 3"
      ],
      "metadata": {
        "id": "Rt2ihaUlYd2-"
      }
    },
    {
      "cell_type": "code",
      "source": [
        "# Modelo\n",
        "ModeloBos3 = RandomForestClassifier(n_estimators=100, criterion=\"gini\") # si es de regresión es mejor darle la profundidad\n",
        "# Entrenamiento\n",
        "ModeloBos3.fit(x_train, y_train)\n",
        "# Predicción\n",
        "y_predBos3 = ModeloBos3.predict(x_test)"
      ],
      "metadata": {
        "id": "fT7QkfKbalmE"
      },
      "execution_count": 34,
      "outputs": []
    },
    {
      "cell_type": "code",
      "source": [
        "# Graficos\n",
        "plt.plot(np.array(y_test), \"bo\")\n",
        "plt.plot(y_predBos3, \"go\")\n",
        "plt.show()  # se comparan los 2 métodos"
      ],
      "metadata": {
        "id": "8OexLDn6b4e1",
        "colab": {
          "base_uri": "https://localhost:8080/",
          "height": 430
        },
        "outputId": "15edfc5f-3456-4784-fa68-3a3db43b21e0"
      },
      "execution_count": 35,
      "outputs": [
        {
          "output_type": "display_data",
          "data": {
            "text/plain": [
              "<Figure size 640x480 with 1 Axes>"
            ],
            "image/png": "[encoded data removed]"
          },
          "metadata": {}
        }
      ]
    },
    {
      "cell_type": "code",
      "source": [
        "# Mariz de confusión\n",
        "Matriz6 = confusion_matrix(y_test, y_predBos3)\n",
        "print(Matriz6)"
      ],
      "metadata": {
        "id": "RpqbV1Peb9DU",
        "colab": {
          "base_uri": "https://localhost:8080/"
        },
        "outputId": "d5865e26-e4f8-414a-8d23-95000abc0e06"
      },
      "execution_count": 36,
      "outputs": [
        {
          "output_type": "stream",
          "name": "stdout",
          "text": [
            "[[0 1 1 0 1 0 0 0]\n",
            " [0 3 1 2 0 0 0 0]\n",
            " [0 3 1 0 0 0 0 0]\n",
            " [0 1 1 0 0 0 0 0]\n",
            " [0 1 1 0 0 0 0 0]\n",
            " [0 0 0 1 0 1 0 0]\n",
            " [0 1 0 1 0 1 0 0]\n",
            " [0 2 0 2 0 1 2 0]]\n"
          ]
        }
      ]
    },
    {
      "cell_type": "code",
      "source": [
        "#Otras métricas\n",
        "precision4=precision_score(y_test, y_predBos3,average=\"macro\")\n",
        "print(\"Precisión del modelo: \", round(precision4,4))\n",
        "exactitud4=accuracy_score(y_test, y_predBos3)\n",
        "print(\"Exactitud del modelo: \", round(exactitud4,4))\n",
        "sensibilidad4=recall_score(y_test, y_predBos3, average=\"macro\")\n",
        "print(\"Sensibilidad del modelo: \", round(sensibilidad4,4))\n",
        "puntajef_14=f1_score(y_test, y_predBos3,average=\"macro\")\n",
        "print(\"Puntaje f1 del modelo: \", round(puntajef_14,4))\n",
        "\n",
        "y_predBos3_a=ModeloBos3.predict_proba(x_test)\n",
        "roc_auc4=roc_auc_score(y_test,y_predBos3_a, multi_class=\"ovr\")\n",
        "print(\"Curva ROC_AUC del modelo\", roc_auc4)"
      ],
      "metadata": {
        "id": "uCjPXIOUcMG1",
        "colab": {
          "base_uri": "https://localhost:8080/"
        },
        "outputId": "0b2115ce-d819-4f14-822d-c566b566975f"
      },
      "execution_count": 37,
      "outputs": [
        {
          "output_type": "stream",
          "name": "stdout",
          "text": [
            "Precisión del modelo:  0.0979\n",
            "Exactitud del modelo:  0.1724\n",
            "Sensibilidad del modelo:  0.1562\n",
            "Puntaje f1 del modelo:  0.1194\n",
            "Curva ROC_AUC del modelo 0.6625119284901894\n"
          ]
        },
        {
          "output_type": "stream",
          "name": "stderr",
          "text": [
            "/usr/local/lib/python3.10/dist-packages/sklearn/metrics/_classification.py:1344: UndefinedMetricWarning: Precision is ill-defined and being set to 0.0 in labels with no predicted samples. Use `zero_division` parameter to control this behavior.\n",
            "  _warn_prf(average, modifier, msg_start, len(result))\n"
          ]
        }
      ]
    },
    {
      "cell_type": "markdown",
      "source": [
        "## Modelo bosques aleatorios 4"
      ],
      "metadata": {
        "id": "j4mJhqH6YhoD"
      }
    },
    {
      "cell_type": "code",
      "source": [
        "# Modelo\n",
        "ModeloBos4 = RandomForestClassifier(n_estimators=50, criterion=\"entropy\") # si es de regresión es mejor darle la profundidad\n",
        "# Entrenamiento\n",
        "ModeloBos4.fit(x_train, y_train)\n",
        "# Predicción\n",
        "y_predBos4 = ModeloBos4.predict(x_test)"
      ],
      "metadata": {
        "id": "niLtVg0_cYAd"
      },
      "execution_count": 38,
      "outputs": []
    },
    {
      "cell_type": "code",
      "source": [
        "# Graficos\n",
        "plt.plot(np.array(y_test), \"bo\")\n",
        "plt.plot(y_predBos4, \"go\")\n",
        "plt.show()  # se comparan los 2 métodos"
      ],
      "metadata": {
        "id": "WeuPdrIKclAk",
        "colab": {
          "base_uri": "https://localhost:8080/",
          "height": 430
        },
        "outputId": "ef051fb3-4db8-4df7-f3c4-0a72dbf9ff7c"
      },
      "execution_count": 39,
      "outputs": [
        {
          "output_type": "display_data",
          "data": {
            "text/plain": [
              "<Figure size 640x480 with 1 Axes>"
            ],
            "image/png": "[encoded data removed]"
          },
          "metadata": {}
        }
      ]
    },
    {
      "cell_type": "code",
      "source": [
        "# Mariz de confusión\n",
        "Matriz7 = confusion_matrix(y_test, y_predBos4)\n",
        "print(Matriz7)"
      ],
      "metadata": {
        "id": "QpXZMrUUcnok",
        "colab": {
          "base_uri": "https://localhost:8080/"
        },
        "outputId": "b34f4eb8-7a10-47c5-90dc-67a2284fb329"
      },
      "execution_count": 40,
      "outputs": [
        {
          "output_type": "stream",
          "name": "stdout",
          "text": [
            "[[0 1 2 0 0 0 0 0]\n",
            " [0 1 1 3 0 1 0 0]\n",
            " [0 2 0 1 0 1 0 0]\n",
            " [0 2 0 0 0 0 0 0]\n",
            " [0 2 0 0 0 0 0 0]\n",
            " [0 0 0 1 0 1 0 0]\n",
            " [0 1 0 1 0 1 0 0]\n",
            " [0 4 0 1 0 0 1 1]]\n"
          ]
        }
      ]
    },
    {
      "cell_type": "code",
      "source": [
        "#Otras métricas\n",
        "precision4=precision_score(y_test, y_predBos4,average=\"macro\")\n",
        "print(\"Precisión del modelo: \", round(precision4,4))\n",
        "exactitud4=accuracy_score(y_test, y_predBos4)\n",
        "print(\"Exactitud del modelo: \", round(exactitud4,4))\n",
        "sensibilidad4=recall_score(y_test, y_predBos4, average=\"macro\")\n",
        "print(\"Sensibilidad del modelo: \", round(sensibilidad4,4))\n",
        "puntajef_14=f1_score(y_test, y_predBos4,average=\"macro\")\n",
        "print(\"Puntaje f1 del modelo: \", round(puntajef_14,4))\n",
        "\n",
        "y_predBos4_a=ModeloBos4.predict_proba(x_test)\n",
        "roc_auc4=roc_auc_score(y_test,y_predBos4_a, multi_class=\"ovr\")\n",
        "print(\"Curva ROC_AUC del modelo\", roc_auc4)"
      ],
      "metadata": {
        "id": "CUnF-x0mcors",
        "colab": {
          "base_uri": "https://localhost:8080/"
        },
        "outputId": "54f8645a-5901-4c82-e3fc-59b06427f9ec"
      },
      "execution_count": 41,
      "outputs": [
        {
          "output_type": "stream",
          "name": "stdout",
          "text": [
            "Precisión del modelo:  0.1659\n",
            "Exactitud del modelo:  0.1034\n",
            "Sensibilidad del modelo:  0.1012\n",
            "Puntaje f1 del modelo:  0.0861\n",
            "Curva ROC_AUC del modelo 0.6078783374435548\n"
          ]
        },
        {
          "output_type": "stream",
          "name": "stderr",
          "text": [
            "/usr/local/lib/python3.10/dist-packages/sklearn/metrics/_classification.py:1344: UndefinedMetricWarning: Precision is ill-defined and being set to 0.0 in labels with no predicted samples. Use `zero_division` parameter to control this behavior.\n",
            "  _warn_prf(average, modifier, msg_start, len(result))\n"
          ]
        }
      ]
    },
    {
      "cell_type": "code",
      "source": [
        "kf = KFold(n_splits= 6)# Número de divisiones\n",
        "# Se quiere evaluar el modelo para cada división\n",
        "scores=cross_val_score(ModeloBos4, x, y, cv=kf, scoring=\"accuracy\")"
      ],
      "metadata": {
        "id": "Bf5Fs7hDEHuE"
      },
      "execution_count": 53,
      "outputs": []
    },
    {
      "cell_type": "code",
      "source": [
        "#Resultados\n",
        "print(\"Métricas de validación cruzada\",scores)\n",
        "print(\"Métricas de validación cruzada\",scores.mean())"
      ],
      "metadata": {
        "colab": {
          "base_uri": "https://localhost:8080/"
        },
        "id": "BQYAhKZ5EIZ7",
        "outputId": "554a2557-1518-44cc-93f4-c97548bed17f"
      },
      "execution_count": 54,
      "outputs": [
        {
          "output_type": "stream",
          "name": "stdout",
          "text": [
            "Métricas de validación cruzada [0.15       0.15       0.15789474 0.31578947 0.21052632 0.15789474]\n",
            "Métricas de validación cruzada 0.19035087719298247\n"
          ]
        }
      ]
    },
    {
      "cell_type": "markdown",
      "source": [
        "## Modelo bosques aleatorios 5"
      ],
      "metadata": {
        "id": "uEX3MfxKYlD9"
      }
    },
    {
      "cell_type": "code",
      "source": [
        "# Modelo\n",
        "ModeloBos5 = RandomForestClassifier(n_estimators=70, criterion=\"entropy\") # si es de regresión es mejor darle la profundidad\n",
        "# Entrenamiento\n",
        "ModeloBos5.fit(x_train, y_train)\n",
        "# Predicción\n",
        "y_predBos5 = ModeloBos5.predict(x_test)"
      ],
      "metadata": {
        "id": "uwmKl7L3c81s"
      },
      "execution_count": 42,
      "outputs": []
    },
    {
      "cell_type": "code",
      "source": [
        "# Graficos\n",
        "plt.plot(np.array(y_test), \"bo\")\n",
        "plt.plot(y_predBos5, \"go\")\n",
        "plt.show()  # se comparan los 2 métodos"
      ],
      "metadata": {
        "id": "Q5zC5SQhc9V9",
        "colab": {
          "base_uri": "https://localhost:8080/",
          "height": 430
        },
        "outputId": "fe2689c2-3921-431b-cbc0-a17e5d419a0b"
      },
      "execution_count": 43,
      "outputs": [
        {
          "output_type": "display_data",
          "data": {
            "text/plain": [
              "<Figure size 640x480 with 1 Axes>"
            ],
            "image/png": "[encoded data removed]"
          },
          "metadata": {}
        }
      ]
    },
    {
      "cell_type": "code",
      "source": [
        "# Mariz de confusión\n",
        "Matriz8 = confusion_matrix(y_test, y_predBos5)\n",
        "print(Matriz8)"
      ],
      "metadata": {
        "id": "37hwJwNhc9uF",
        "colab": {
          "base_uri": "https://localhost:8080/"
        },
        "outputId": "9cfe565d-64d6-4cee-9882-13dca0eefc4c"
      },
      "execution_count": 44,
      "outputs": [
        {
          "output_type": "stream",
          "name": "stdout",
          "text": [
            "[[0 1 1 1 0 0 0 0]\n",
            " [0 3 0 3 0 0 0 0]\n",
            " [0 1 2 0 0 1 0 0]\n",
            " [0 1 1 0 0 0 0 0]\n",
            " [0 2 0 0 0 0 0 0]\n",
            " [0 0 0 1 0 1 0 0]\n",
            " [0 2 0 0 0 1 0 0]\n",
            " [0 4 0 1 0 0 2 0]]\n"
          ]
        }
      ]
    },
    {
      "cell_type": "code",
      "source": [
        "#Otras métricas\n",
        "precision4=precision_score(y_test, y_predBos5,average=\"macro\")\n",
        "print(\"Precisión del modelo: \", round(precision4,4))\n",
        "exactitud4=accuracy_score(y_test, y_predBos5)\n",
        "print(\"Exactitud del modelo: \", round(exactitud4,4))\n",
        "sensibilidad4=recall_score(y_test, y_predBos5, average=\"macro\")\n",
        "print(\"Sensibilidad del modelo: \", round(sensibilidad4,4))\n",
        "puntajef_14=f1_score(y_test, y_predBos5,average=\"macro\")\n",
        "print(\"Puntaje f1 del modelo: \", round(puntajef_14,4))\n",
        "\n",
        "y_predBos5_a=ModeloBos5.predict_proba(x_test)\n",
        "roc_auc4=roc_auc_score(y_test,y_predBos5_a, multi_class=\"ovr\")\n",
        "print(\"Curva ROC_AUC del modelo\", roc_auc4)"
      ],
      "metadata": {
        "id": "axphHPhbc9_t",
        "colab": {
          "base_uri": "https://localhost:8080/"
        },
        "outputId": "8640332c-321c-4be3-89cc-38cce71b75cb"
      },
      "execution_count": 45,
      "outputs": [
        {
          "output_type": "stream",
          "name": "stdout",
          "text": [
            "Precisión del modelo:  0.131\n",
            "Exactitud del modelo:  0.2069\n",
            "Sensibilidad del modelo:  0.1875\n",
            "Puntaje f1 del modelo:  0.15\n",
            "Curva ROC_AUC del modelo 0.618546802432672\n"
          ]
        },
        {
          "output_type": "stream",
          "name": "stderr",
          "text": [
            "/usr/local/lib/python3.10/dist-packages/sklearn/metrics/_classification.py:1344: UndefinedMetricWarning: Precision is ill-defined and being set to 0.0 in labels with no predicted samples. Use `zero_division` parameter to control this behavior.\n",
            "  _warn_prf(average, modifier, msg_start, len(result))\n"
          ]
        }
      ]
    },
    {
      "cell_type": "markdown",
      "source": [
        "## Modelo bosques aleatorios 6"
      ],
      "metadata": {
        "id": "qY8AzDCaYmKm"
      }
    },
    {
      "cell_type": "code",
      "source": [
        "# Modelo\n",
        "ModeloBos6 = RandomForestClassifier(n_estimators=100, criterion=\"entropy\") # si es de regresión es mejor darle la profundidad\n",
        "# Entrenamiento\n",
        "ModeloBos6.fit(x_train, y_train)\n",
        "# Predicción\n",
        "y_predBos6 = ModeloBos6.predict(x_test)"
      ],
      "metadata": {
        "id": "YlQqYjp9dTXd"
      },
      "execution_count": 46,
      "outputs": []
    },
    {
      "cell_type": "code",
      "source": [
        "# Graficos\n",
        "plt.plot(np.array(y_test), \"bo\")\n",
        "plt.plot(y_predBos6, \"go\")\n",
        "plt.show()  # se comparan los 2 métodos"
      ],
      "metadata": {
        "id": "X-2IDZiSdToN",
        "colab": {
          "base_uri": "https://localhost:8080/",
          "height": 430
        },
        "outputId": "a1ca79ea-20a6-4973-8f92-17a2420eb3ec"
      },
      "execution_count": 47,
      "outputs": [
        {
          "output_type": "display_data",
          "data": {
            "text/plain": [
              "<Figure size 640x480 with 1 Axes>"
            ],
            "image/png": "[encoded data removed]"
          },
          "metadata": {}
        }
      ]
    },
    {
      "cell_type": "code",
      "source": [
        "# Mariz de confusión\n",
        "Matriz9 = confusion_matrix(y_test, y_predBos6)\n",
        "print(Matriz9)"
      ],
      "metadata": {
        "id": "X_yMgwwUdT1F",
        "colab": {
          "base_uri": "https://localhost:8080/"
        },
        "outputId": "e9650e5d-6c16-46db-c1a5-4f0fdb624d94"
      },
      "execution_count": 48,
      "outputs": [
        {
          "output_type": "stream",
          "name": "stdout",
          "text": [
            "[[0 1 1 0 1 0 0 0]\n",
            " [0 4 0 2 0 0 0 0]\n",
            " [0 2 1 0 0 0 1 0]\n",
            " [0 1 1 0 0 0 0 0]\n",
            " [0 2 0 0 0 0 0 0]\n",
            " [0 0 0 1 0 1 0 0]\n",
            " [0 1 0 1 0 1 0 0]\n",
            " [0 5 0 1 0 1 0 0]]\n"
          ]
        }
      ]
    },
    {
      "cell_type": "code",
      "source": [
        "#Otras métricas\n",
        "precision4=precision_score(y_test, y_predBos6,average=\"macro\")\n",
        "print(\"Precisión del modelo: \", round(precision4,4))\n",
        "exactitud4=accuracy_score(y_test, y_predBos6)\n",
        "print(\"Exactitud del modelo: \", round(exactitud4,4))\n",
        "sensibilidad4=recall_score(y_test, y_predBos6, average=\"macro\")\n",
        "print(\"Sensibilidad del modelo: \", round(sensibilidad4,4))\n",
        "puntajef_14=f1_score(y_test, y_predBos6,average=\"macro\")\n",
        "print(\"Puntaje f1 del modelo: \", round(puntajef_14,4))\n",
        "\n",
        "y_predBos6_a=ModeloBos6.predict_proba(x_test)\n",
        "roc_auc4=roc_auc_score(y_test,y_predBos6_a, multi_class=\"ovr\")\n",
        "print(\"Curva ROC_AUC del modelo\", roc_auc4)"
      ],
      "metadata": {
        "id": "idSq70tRdUVt",
        "colab": {
          "base_uri": "https://localhost:8080/"
        },
        "outputId": "7489fe00-4264-4f19-ad49-36a9be5400d5"
      },
      "execution_count": 49,
      "outputs": [
        {
          "output_type": "stream",
          "name": "stdout",
          "text": [
            "Precisión del modelo:  0.1146\n",
            "Exactitud del modelo:  0.2069\n",
            "Sensibilidad del modelo:  0.1771\n",
            "Puntaje f1 del modelo:  0.1312\n",
            "Curva ROC_AUC del modelo 0.620940075423771\n"
          ]
        },
        {
          "output_type": "stream",
          "name": "stderr",
          "text": [
            "/usr/local/lib/python3.10/dist-packages/sklearn/metrics/_classification.py:1344: UndefinedMetricWarning: Precision is ill-defined and being set to 0.0 in labels with no predicted samples. Use `zero_division` parameter to control this behavior.\n",
            "  _warn_prf(average, modifier, msg_start, len(result))\n"
          ]
        }
      ]
    },
    {
      "cell_type": "code",
      "source": [],
      "metadata": {
        "id": "NkKVW8c2fOJV"
      },
      "execution_count": 49,
      "outputs": []
    }
  ]
}